{
 "cells": [
  {
   "cell_type": "markdown",
   "metadata": {},
   "source": [
    "#### Lambda"
   ]
  },
  {
   "cell_type": "code",
   "execution_count": 12,
   "metadata": {},
   "outputs": [
    {
     "name": "stdout",
     "output_type": "stream",
     "text": [
      "5\n"
     ]
    }
   ],
   "source": [
    "add = lambda x, y : x + y   \n",
    "print(add(2, 3)) # Output: 5"
   ]
  },
  {
   "cell_type": "markdown",
   "metadata": {},
   "source": [
    "#### Map"
   ]
  },
  {
   "cell_type": "code",
   "execution_count": 7,
   "metadata": {},
   "outputs": [
    {
     "name": "stdout",
     "output_type": "stream",
     "text": [
      "['python', 'java']\n",
      "[100, 80]\n",
      "[True, False]\n"
     ]
    }
   ],
   "source": [
    "dict_a = [{'name': 'python', 'points': 10}, {'name': 'java', 'points': 8}]\n",
    "  \n",
    "print(list(map(lambda x : x['name'], dict_a))) # Output: ['python', 'java']\n",
    "  \n",
    "print(list(map(lambda x : x['points']*10,  dict_a))) # Output: [100, 80]\n",
    "\n",
    "print(list(map(lambda x : x['name'] == \"python\", dict_a))) # Output: [True, False]"
   ]
  },
  {
   "cell_type": "markdown",
   "metadata": {},
   "source": [
    "#### Filter\n",
    "\n",
    "The filter function expects two arguments: function_object and an iterable. function_object returns a boolean value and is called for each element of the iterable. Filter returns only those elements for which the function_object returns true.\n",
    "\n",
    "Like the map function, the filter function also returns a list of elements. Unlike map, the filter function can only have one iterable as input."
   ]
  },
  {
   "cell_type": "code",
   "execution_count": 10,
   "metadata": {},
   "outputs": [
    {
     "name": "stdout",
     "output_type": "stream",
     "text": [
      "[2, 4, 6]\n",
      "[{'name': 'python', 'points': 10}]\n"
     ]
    }
   ],
   "source": [
    "## mod 2 example\n",
    "a = [1, 2, 3, 4, 5, 6]\n",
    "print(list(filter(lambda x : x % 2 == 0, a))) # Output: [2, 4, 6]\n",
    "\n",
    "## filter over dictionary\n",
    "dict_a = [{'name': 'python', 'points': 10}, {'name': 'java', 'points': 8}]\n",
    "print(list(filter(lambda x : x['name'] == 'python', dict_a))) # Output: [{'name': 'python', 'points': 10}]"
   ]
  },
  {
   "cell_type": "markdown",
   "metadata": {},
   "source": [
    "#### Zip\n",
    "\n",
    "Create a list of tuples out of several lists. If lengths of lists are different, zipped list length is equal to the shortest length."
   ]
  },
  {
   "cell_type": "code",
   "execution_count": 16,
   "metadata": {},
   "outputs": [
    {
     "name": "stdout",
     "output_type": "stream",
     "text": [
      "[(1, 'a', 'aa'), (2, 'b', 'bb'), (3, 'c', 'cc')]\n"
     ]
    }
   ],
   "source": [
    "list_a = [1, 2, 3, 4]\n",
    "list_b = ['a', 'b','c']\n",
    "list_c = ['aa', 'bb', 'cc', 'dd']\n",
    "zipped_list = zip(list_a, list_b, list_c)\n",
    "\n",
    "print(list(zipped_list)) # [(1, 'a', 'aa'), (2, 'b', 'bb'), (3, 'c', 'cc')]"
   ]
  },
  {
   "cell_type": "markdown",
   "metadata": {},
   "source": [
    "**Lazy evaluation**, or **call-by-need** is an evaluation strategy which delays the evaluation of an expression until its value is needed and which also avoids repeated evaluations."
   ]
  },
  {
   "cell_type": "code",
   "execution_count": 21,
   "metadata": {},
   "outputs": [
    {
     "name": "stdout",
     "output_type": "stream",
     "text": [
      "[(1, 4), (2, 5), (3, 6)]\n",
      "[]\n"
     ]
    }
   ],
   "source": [
    "a = [1, 2, 3]\n",
    "b = [4, 5, 6]\n",
    "\n",
    "zipped = zip(a, b) # Output: Zip Object. <zip at 0x4c10a30>\n",
    "\n",
    "#len(zipped) # TypeError: object of type 'zip' has no len()\n",
    "\n",
    "#zipped[0] # TypeError: 'zip' object is not subscriptable\n",
    "\n",
    "c = list(zipped) #Output: [(1, 4), (2, 5), (3, 6)]\n",
    "print(c)\n",
    "\n",
    "d = list(zipped) # Output []... Output is empty list becuase by the above statement zip got exhausted.\n",
    "print(d)"
   ]
  },
  {
   "cell_type": "markdown",
   "metadata": {},
   "source": [
    "## I try myself"
   ]
  },
  {
   "cell_type": "code",
   "execution_count": 45,
   "metadata": {},
   "outputs": [
    {
     "data": {
      "text/plain": [
       "[(1, 3, 'w'), (11, 5, 'e'), (12, 7, 'd'), (32, 8, 'f'), (45, 9, 'c')]"
      ]
     },
     "execution_count": 45,
     "metadata": {},
     "output_type": "execute_result"
    }
   ],
   "source": [
    "## zip\n",
    "a = [1, 11, 12, 32, 45]\n",
    "b = [3, 5, 7, 8, 9]\n",
    "c = ['w', 'e', 'd','f','c']\n",
    "s = zip(a, b, c)\n",
    "s = list(s)\n",
    "s"
   ]
  },
  {
   "cell_type": "code",
   "execution_count": 46,
   "metadata": {},
   "outputs": [
    {
     "data": {
      "text/plain": [
       "[(1, 11, 12, 32, 45), (3, 5, 7, 8, 9), ('w', 'e', 'd', 'f', 'c')]"
      ]
     },
     "execution_count": 46,
     "metadata": {},
     "output_type": "execute_result"
    }
   ],
   "source": [
    "## unzip\n",
    "p = zip(*s)\n",
    "list(p)"
   ]
  },
  {
   "cell_type": "code",
   "execution_count": 24,
   "metadata": {},
   "outputs": [
    {
     "data": {
      "text/plain": [
       "[(1, 3, 8), (2, 4, 9)]"
      ]
     },
     "execution_count": 24,
     "metadata": {},
     "output_type": "execute_result"
    }
   ],
   "source": [
    "l = [(1,2), (3,4), (8,9)]\n",
    "list(zip(*l))\n",
    "# [(1, 3, 8), (2, 4, 9)]"
   ]
  },
  {
   "cell_type": "code",
   "execution_count": 29,
   "metadata": {},
   "outputs": [
    {
     "data": {
      "text/plain": [
       "[(1, 3, 8), (2, 4, 9)]"
      ]
     },
     "execution_count": 29,
     "metadata": {},
     "output_type": "execute_result"
    }
   ],
   "source": [
    "l = [[1,2], [3,4], [8,9]]\n",
    "list(zip(*l))\n",
    "# [(1, 3, 8), (2, 4, 9)]"
   ]
  },
  {
   "cell_type": "code",
   "execution_count": 76,
   "metadata": {},
   "outputs": [
    {
     "name": "stdout",
     "output_type": "stream",
     "text": [
      "[[(1, 11, 12, 32, 45), (3, 5, 7, 8, 9), ('w', 'e', 'd', 'f', 'c')], [(1, 11, 12, 32, 45), ('w', 'e', 'd', 'f', 'c')]]\n",
      "[]\n"
     ]
    }
   ],
   "source": [
    "a = [1, 11, 12, 32, 45]\n",
    "b = [3, 5, 7, 8, 9]\n",
    "c = ['w', 'e', 'd','f','c']\n",
    "\n",
    "s = list(zip(a, b, c))\n",
    "ss = list(zip(a,c))\n",
    "\n",
    "unzip = lambda x: list(zip(*x))\n",
    "\n",
    "p = map(unzip, [s, ss])\n",
    "p = list(p)\n",
    "print(p)\n",
    "\n",
    "\n",
    "pp = filter(lambda x: len(x[1])>2, p)\n",
    "pp = list(pp)\n",
    "print(pp)"
   ]
  },
  {
   "cell_type": "code",
   "execution_count": 77,
   "metadata": {},
   "outputs": [
    {
     "data": {
      "text/plain": [
       "[(1, 11, 12, 32, 45), (3, 5, 7, 8, 9), ('w', 'e', 'd', 'f', 'c')]"
      ]
     },
     "execution_count": 77,
     "metadata": {},
     "output_type": "execute_result"
    }
   ],
   "source": [
    "p[0]"
   ]
  }
 ],
 "metadata": {
  "kernelspec": {
   "display_name": "Python 3 (ipykernel)",
   "language": "python",
   "name": "python3"
  },
  "language_info": {
   "codemirror_mode": {
    "name": "ipython",
    "version": 3
   },
   "file_extension": ".py",
   "mimetype": "text/x-python",
   "name": "python",
   "nbconvert_exporter": "python",
   "pygments_lexer": "ipython3",
   "version": "3.8.10"
  }
 },
 "nbformat": 4,
 "nbformat_minor": 2
}
