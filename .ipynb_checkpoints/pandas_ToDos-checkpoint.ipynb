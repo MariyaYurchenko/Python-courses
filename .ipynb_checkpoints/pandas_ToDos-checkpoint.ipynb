{
 "cells": [
  {
   "cell_type": "code",
   "execution_count": 13,
   "metadata": {},
   "outputs": [
    {
     "name": "stdout",
     "output_type": "stream",
     "text": [
      "The lab_black extension is already loaded. To reload it, use:\n",
      "  %reload_ext lab_black\n",
      "The nb_black extension is already loaded. To reload it, use:\n",
      "  %reload_ext nb_black\n"
     ]
    },
    {
     "data": {
      "application/javascript": [
       "\n",
       "            setTimeout(function() {\n",
       "                var nbb_cell_id = 13;\n",
       "                var nbb_unformatted_code = \"%load_ext lab_black\\n%load_ext nb_black\\n\\n\\\"\\\"\\\" Trying black package & pandas 1.0\\n\\n\\\"\\\"\\\"\\n\\nimport numpy as np\\nimport pandas as pd\\nimport time\";\n",
       "                var nbb_formatted_code = \"%load_ext lab_black\\n%load_ext nb_black\\n\\n\\\"\\\"\\\" Trying black package & pandas 1.0\\n\\n\\\"\\\"\\\"\\n\\nimport numpy as np\\nimport pandas as pd\\nimport time\";\n",
       "                var nbb_cells = Jupyter.notebook.get_cells();\n",
       "                for (var i = 0; i < nbb_cells.length; ++i) {\n",
       "                    if (nbb_cells[i].input_prompt_number == nbb_cell_id) {\n",
       "                        if (nbb_cells[i].get_text() == nbb_unformatted_code) {\n",
       "                             nbb_cells[i].set_text(nbb_formatted_code);\n",
       "                        }\n",
       "                        break;\n",
       "                    }\n",
       "                }\n",
       "            }, 500);\n",
       "            "
      ],
      "text/plain": [
       "<IPython.core.display.Javascript object>"
      ]
     },
     "metadata": {},
     "output_type": "display_data"
    }
   ],
   "source": [
    "%load_ext lab_black\n",
    "%load_ext nb_black"
   ]
  },
  {
   "cell_type": "code",
   "execution_count": 25,
   "metadata": {},
   "outputs": [
    {
     "data": {
      "text/plain": [
       "' \\nTrying black package & pandas 1.0\\n\\n'"
      ]
     },
     "execution_count": 25,
     "metadata": {},
     "output_type": "execute_result"
    },
    {
     "data": {
      "application/javascript": [
       "\n",
       "            setTimeout(function() {\n",
       "                var nbb_cell_id = 25;\n",
       "                var nbb_unformatted_code = \"\\\"\\\"\\\" \\nTrying black package & pandas 1.0\\n\\n\\\"\\\"\\\"\";\n",
       "                var nbb_formatted_code = \"\\\"\\\"\\\" \\nTrying black package & pandas 1.0\\n\\n\\\"\\\"\\\"\";\n",
       "                var nbb_cells = Jupyter.notebook.get_cells();\n",
       "                for (var i = 0; i < nbb_cells.length; ++i) {\n",
       "                    if (nbb_cells[i].input_prompt_number == nbb_cell_id) {\n",
       "                        if (nbb_cells[i].get_text() == nbb_unformatted_code) {\n",
       "                             nbb_cells[i].set_text(nbb_formatted_code);\n",
       "                        }\n",
       "                        break;\n",
       "                    }\n",
       "                }\n",
       "            }, 500);\n",
       "            "
      ],
      "text/plain": [
       "<IPython.core.display.Javascript object>"
      ]
     },
     "metadata": {},
     "output_type": "display_data"
    }
   ],
   "source": [
    "\"\"\" \n",
    "Trying black package & pandas 1.0 & large csv handling\n",
    "\n",
    "\"\"\""
   ]
  },
  {
   "cell_type": "code",
   "execution_count": 26,
   "metadata": {},
   "outputs": [
    {
     "data": {
      "application/javascript": [
       "\n",
       "            setTimeout(function() {\n",
       "                var nbb_cell_id = 26;\n",
       "                var nbb_unformatted_code = \"import numpy as np\\nimport pandas as pd\\nimport time\";\n",
       "                var nbb_formatted_code = \"import numpy as np\\nimport pandas as pd\\nimport time\";\n",
       "                var nbb_cells = Jupyter.notebook.get_cells();\n",
       "                for (var i = 0; i < nbb_cells.length; ++i) {\n",
       "                    if (nbb_cells[i].input_prompt_number == nbb_cell_id) {\n",
       "                        if (nbb_cells[i].get_text() == nbb_unformatted_code) {\n",
       "                             nbb_cells[i].set_text(nbb_formatted_code);\n",
       "                        }\n",
       "                        break;\n",
       "                    }\n",
       "                }\n",
       "            }, 500);\n",
       "            "
      ],
      "text/plain": [
       "<IPython.core.display.Javascript object>"
      ]
     },
     "metadata": {},
     "output_type": "display_data"
    }
   ],
   "source": [
    "import numpy as np\n",
    "import pandas as pd\n",
    "import time"
   ]
  },
  {
   "cell_type": "code",
   "execution_count": 21,
   "metadata": {},
   "outputs": [
    {
     "data": {
      "text/html": [
       "<div>\n",
       "<style scoped>\n",
       "    .dataframe tbody tr th:only-of-type {\n",
       "        vertical-align: middle;\n",
       "    }\n",
       "\n",
       "    .dataframe tbody tr th {\n",
       "        vertical-align: top;\n",
       "    }\n",
       "\n",
       "    .dataframe thead th {\n",
       "        text-align: right;\n",
       "    }\n",
       "</style>\n",
       "<table border=\"1\" class=\"dataframe\">\n",
       "  <thead>\n",
       "    <tr style=\"text-align: right;\">\n",
       "      <th></th>\n",
       "      <th>id</th>\n",
       "      <th>city</th>\n",
       "      <th>booked_perc</th>\n",
       "    </tr>\n",
       "  </thead>\n",
       "  <tbody>\n",
       "    <tr>\n",
       "      <th>0</th>\n",
       "      <td>0-new york</td>\n",
       "      <td>new york</td>\n",
       "      <td>0.137220</td>\n",
       "    </tr>\n",
       "    <tr>\n",
       "      <th>1</th>\n",
       "      <td>1-barcelona</td>\n",
       "      <td>barcelona</td>\n",
       "      <td>0.980180</td>\n",
       "    </tr>\n",
       "    <tr>\n",
       "      <th>2</th>\n",
       "      <td>2-berlin</td>\n",
       "      <td>berlin</td>\n",
       "      <td>0.918581</td>\n",
       "    </tr>\n",
       "    <tr>\n",
       "      <th>3</th>\n",
       "      <td>3-barcelona</td>\n",
       "      <td>barcelona</td>\n",
       "      <td>0.360870</td>\n",
       "    </tr>\n",
       "    <tr>\n",
       "      <th>4</th>\n",
       "      <td>4-berlin</td>\n",
       "      <td>berlin</td>\n",
       "      <td>0.958257</td>\n",
       "    </tr>\n",
       "  </tbody>\n",
       "</table>\n",
       "</div>"
      ],
      "text/plain": [
       "            id       city  booked_perc\n",
       "0   0-new york   new york     0.137220\n",
       "1  1-barcelona  barcelona     0.980180\n",
       "2     2-berlin     berlin     0.918581\n",
       "3  3-barcelona  barcelona     0.360870\n",
       "4     4-berlin     berlin     0.958257"
      ]
     },
     "execution_count": 21,
     "metadata": {},
     "output_type": "execute_result"
    },
    {
     "data": {
      "application/javascript": [
       "\n",
       "            setTimeout(function() {\n",
       "                var nbb_cell_id = 21;\n",
       "                var nbb_unformatted_code = \"size = 10000\\ncities = [\\\"paris\\\", \\\"barcelona\\\", \\\"berlin\\\", \\\"new york\\\"]\\ndf = pd.DataFrame(\\n    {\\\"city\\\": np.random.choice(cities, size=size), \\\"booked_perc\\\": np.random.rand(size)}\\n)\\ndf[\\\"id\\\"] = df.index.map(str) + \\\"-\\\" + df.city\\ndf = df[[\\\"id\\\", \\\"city\\\", \\\"booked_perc\\\"]]\\ndf.head()\";\n",
       "                var nbb_formatted_code = \"size = 10000\\ncities = [\\\"paris\\\", \\\"barcelona\\\", \\\"berlin\\\", \\\"new york\\\"]\\ndf = pd.DataFrame(\\n    {\\\"city\\\": np.random.choice(cities, size=size), \\\"booked_perc\\\": np.random.rand(size)}\\n)\\ndf[\\\"id\\\"] = df.index.map(str) + \\\"-\\\" + df.city\\ndf = df[[\\\"id\\\", \\\"city\\\", \\\"booked_perc\\\"]]\\ndf.head()\";\n",
       "                var nbb_cells = Jupyter.notebook.get_cells();\n",
       "                for (var i = 0; i < nbb_cells.length; ++i) {\n",
       "                    if (nbb_cells[i].input_prompt_number == nbb_cell_id) {\n",
       "                        if (nbb_cells[i].get_text() == nbb_unformatted_code) {\n",
       "                             nbb_cells[i].set_text(nbb_formatted_code);\n",
       "                        }\n",
       "                        break;\n",
       "                    }\n",
       "                }\n",
       "            }, 500);\n",
       "            "
      ],
      "text/plain": [
       "<IPython.core.display.Javascript object>"
      ]
     },
     "metadata": {},
     "output_type": "display_data"
    }
   ],
   "source": [
    "size = 10000\n",
    "cities = [\"paris\", \"barcelona\", \"berlin\", \"new york\"]\n",
    "df = pd.DataFrame(\n",
    "    {\"city\": np.random.choice(cities, size=size), \"booked_perc\": np.random.rand(size)}\n",
    ")\n",
    "df[\"id\"] = df.index.map(str) + \"-\" + df.city\n",
    "df = df[[\"id\", \"city\", \"booked_perc\"]]\n",
    "df.head()"
   ]
  },
  {
   "cell_type": "code",
   "execution_count": 23,
   "metadata": {},
   "outputs": [
    {
     "name": "stdout",
     "output_type": "stream",
     "text": [
      "0.0019974708557128906\n",
      "0.0009961128234863281\n",
      "0.0029959678649902344\n"
     ]
    },
    {
     "data": {
      "text/html": [
       "<div>\n",
       "<style scoped>\n",
       "    .dataframe tbody tr th:only-of-type {\n",
       "        vertical-align: middle;\n",
       "    }\n",
       "\n",
       "    .dataframe tbody tr th {\n",
       "        vertical-align: top;\n",
       "    }\n",
       "\n",
       "    .dataframe thead th {\n",
       "        text-align: right;\n",
       "    }\n",
       "</style>\n",
       "<table border=\"1\" class=\"dataframe\">\n",
       "  <thead>\n",
       "    <tr style=\"text-align: right;\">\n",
       "      <th></th>\n",
       "      <th>id</th>\n",
       "      <th>city</th>\n",
       "      <th>booked_perc</th>\n",
       "      <th>perc_change</th>\n",
       "    </tr>\n",
       "  </thead>\n",
       "  <tbody>\n",
       "    <tr>\n",
       "      <th>0</th>\n",
       "      <td>0-new york</td>\n",
       "      <td>new york</td>\n",
       "      <td>0.137220</td>\n",
       "      <td>NaN</td>\n",
       "    </tr>\n",
       "    <tr>\n",
       "      <th>1</th>\n",
       "      <td>1-barcelona</td>\n",
       "      <td>barcelona</td>\n",
       "      <td>0.980180</td>\n",
       "      <td>6.143129</td>\n",
       "    </tr>\n",
       "    <tr>\n",
       "      <th>2</th>\n",
       "      <td>2-berlin</td>\n",
       "      <td>berlin</td>\n",
       "      <td>0.918581</td>\n",
       "      <td>-0.062844</td>\n",
       "    </tr>\n",
       "    <tr>\n",
       "      <th>3</th>\n",
       "      <td>3-barcelona</td>\n",
       "      <td>barcelona</td>\n",
       "      <td>0.360870</td>\n",
       "      <td>-0.607144</td>\n",
       "    </tr>\n",
       "    <tr>\n",
       "      <th>4</th>\n",
       "      <td>4-berlin</td>\n",
       "      <td>berlin</td>\n",
       "      <td>0.958257</td>\n",
       "      <td>1.655404</td>\n",
       "    </tr>\n",
       "  </tbody>\n",
       "</table>\n",
       "</div>"
      ],
      "text/plain": [
       "            id       city  booked_perc  perc_change\n",
       "0   0-new york   new york     0.137220          NaN\n",
       "1  1-barcelona  barcelona     0.980180     6.143129\n",
       "2     2-berlin     berlin     0.918581    -0.062844\n",
       "3  3-barcelona  barcelona     0.360870    -0.607144\n",
       "4     4-berlin     berlin     0.958257     1.655404"
      ]
     },
     "execution_count": 23,
     "metadata": {},
     "output_type": "execute_result"
    },
    {
     "data": {
      "application/javascript": [
       "\n",
       "            setTimeout(function() {\n",
       "                var nbb_cell_id = 23;\n",
       "                var nbb_unformatted_code = \"ts0 = time.time()\\n\\nsum(booked_perc for booked_perc in df.booked_perc)\\n\\nts1 = time.time()\\nprint(ts1 - ts0)\\n\\nts0 = time.time()\\n\\ndf.booked_perc.sum()\\n\\nts1 = time.time()\\nprint(ts1 - ts0)\\n\\nts0 = time.time()\\n\\ndf[\\\"perc_change\\\"] = df.booked_perc.pct_change()\\n\\nts1 = time.time()\\nprint(ts1 - ts0)\\n\\ndf.head()\";\n",
       "                var nbb_formatted_code = \"ts0 = time.time()\\n\\nsum(booked_perc for booked_perc in df.booked_perc)\\n\\nts1 = time.time()\\nprint(ts1 - ts0)\\n\\nts0 = time.time()\\n\\ndf.booked_perc.sum()\\n\\nts1 = time.time()\\nprint(ts1 - ts0)\\n\\nts0 = time.time()\\n\\ndf[\\\"perc_change\\\"] = df.booked_perc.pct_change()\\n\\nts1 = time.time()\\nprint(ts1 - ts0)\\n\\ndf.head()\";\n",
       "                var nbb_cells = Jupyter.notebook.get_cells();\n",
       "                for (var i = 0; i < nbb_cells.length; ++i) {\n",
       "                    if (nbb_cells[i].input_prompt_number == nbb_cell_id) {\n",
       "                        if (nbb_cells[i].get_text() == nbb_unformatted_code) {\n",
       "                             nbb_cells[i].set_text(nbb_formatted_code);\n",
       "                        }\n",
       "                        break;\n",
       "                    }\n",
       "                }\n",
       "            }, 500);\n",
       "            "
      ],
      "text/plain": [
       "<IPython.core.display.Javascript object>"
      ]
     },
     "metadata": {},
     "output_type": "display_data"
    }
   ],
   "source": [
    "ts0 = time.time()\n",
    "\n",
    "sum(booked_perc for booked_perc in df.booked_perc)\n",
    "\n",
    "ts1 = time.time()\n",
    "print(ts1 - ts0)\n",
    "\n",
    "ts0 = time.time()\n",
    "\n",
    "df.booked_perc.sum()\n",
    "\n",
    "ts1 = time.time()\n",
    "print(ts1 - ts0)\n",
    "\n",
    "ts0 = time.time()\n",
    "\n",
    "df[\"perc_change\"] = df.booked_perc.pct_change()\n",
    "\n",
    "ts1 = time.time()\n",
    "print(ts1 - ts0)\n",
    "\n",
    "df.head()"
   ]
  },
  {
   "cell_type": "code",
   "execution_count": 27,
   "metadata": {},
   "outputs": [
    {
     "name": "stdout",
     "output_type": "stream",
     "text": [
      "4.811127662658691\n",
      "0.1845080852508545\n",
      "0.003988981246948242\n"
     ]
    },
    {
     "data": {
      "text/html": [
       "<div>\n",
       "<style scoped>\n",
       "    .dataframe tbody tr th:only-of-type {\n",
       "        vertical-align: middle;\n",
       "    }\n",
       "\n",
       "    .dataframe tbody tr th {\n",
       "        vertical-align: top;\n",
       "    }\n",
       "\n",
       "    .dataframe thead th {\n",
       "        text-align: right;\n",
       "    }\n",
       "</style>\n",
       "<table border=\"1\" class=\"dataframe\">\n",
       "  <thead>\n",
       "    <tr style=\"text-align: right;\">\n",
       "      <th></th>\n",
       "      <th>id</th>\n",
       "      <th>city</th>\n",
       "      <th>booked_perc</th>\n",
       "      <th>perc_change</th>\n",
       "      <th>sales_factor</th>\n",
       "    </tr>\n",
       "  </thead>\n",
       "  <tbody>\n",
       "    <tr>\n",
       "      <th>0</th>\n",
       "      <td>0-new york</td>\n",
       "      <td>new york</td>\n",
       "      <td>0.137220</td>\n",
       "      <td>NaN</td>\n",
       "      <td>0.27444</td>\n",
       "    </tr>\n",
       "    <tr>\n",
       "      <th>1</th>\n",
       "      <td>1-barcelona</td>\n",
       "      <td>barcelona</td>\n",
       "      <td>0.980180</td>\n",
       "      <td>6.143129</td>\n",
       "      <td>0.00000</td>\n",
       "    </tr>\n",
       "    <tr>\n",
       "      <th>2</th>\n",
       "      <td>2-berlin</td>\n",
       "      <td>berlin</td>\n",
       "      <td>0.918581</td>\n",
       "      <td>-0.062844</td>\n",
       "      <td>0.00000</td>\n",
       "    </tr>\n",
       "    <tr>\n",
       "      <th>3</th>\n",
       "      <td>3-barcelona</td>\n",
       "      <td>barcelona</td>\n",
       "      <td>0.360870</td>\n",
       "      <td>-0.607144</td>\n",
       "      <td>0.00000</td>\n",
       "    </tr>\n",
       "    <tr>\n",
       "      <th>4</th>\n",
       "      <td>4-berlin</td>\n",
       "      <td>berlin</td>\n",
       "      <td>0.958257</td>\n",
       "      <td>1.655404</td>\n",
       "      <td>0.00000</td>\n",
       "    </tr>\n",
       "  </tbody>\n",
       "</table>\n",
       "</div>"
      ],
      "text/plain": [
       "            id       city  booked_perc  perc_change  sales_factor\n",
       "0   0-new york   new york     0.137220          NaN       0.27444\n",
       "1  1-barcelona  barcelona     0.980180     6.143129       0.00000\n",
       "2     2-berlin     berlin     0.918581    -0.062844       0.00000\n",
       "3  3-barcelona  barcelona     0.360870    -0.607144       0.00000\n",
       "4     4-berlin     berlin     0.958257     1.655404       0.00000"
      ]
     },
     "execution_count": 27,
     "metadata": {},
     "output_type": "execute_result"
    },
    {
     "data": {
      "application/javascript": [
       "\n",
       "            setTimeout(function() {\n",
       "                var nbb_cell_id = 27;\n",
       "                var nbb_unformatted_code = \"## NO!\\nts0 = time.time()\\nfor i, row in df.iterrows():\\n    if row.city == \\\"new york\\\":\\n        df.loc[i, \\\"sales_factor\\\"] = row.booked_perc * 2\\n    else:\\n        df.loc[i, \\\"sales_factor\\\"] = 0\\nts1 = time.time()\\nprint(ts1 - ts0)\\n\\n## YES\\nts0 = time.time()\\n\\n\\ndef calculate_sales_factor(row):\\n    if row.city == \\\"new york\\\":\\n        return row.booked_perc * 2\\n    return 0\\n\\n\\ndf[\\\"sales_factor\\\"] = df.apply(calculate_sales_factor, axis=1)\\nts1 = time.time()\\nprint(ts1 - ts0)\\n\\n## YES!\\nts0 = time.time()\\ndf.loc[df.city == \\\"new york\\\", \\\"sales_factor\\\"] = (\\n    df[df.city == \\\"new york\\\"].booked_perc * 2\\n)\\ndf.sales_factor.fillna(0, inplace=True)\\nts1 = time.time()\\nprint(ts1 - ts0)\\n\\ndf.head()\";\n",
       "                var nbb_formatted_code = \"## NO!\\nts0 = time.time()\\nfor i, row in df.iterrows():\\n    if row.city == \\\"new york\\\":\\n        df.loc[i, \\\"sales_factor\\\"] = row.booked_perc * 2\\n    else:\\n        df.loc[i, \\\"sales_factor\\\"] = 0\\nts1 = time.time()\\nprint(ts1 - ts0)\\n\\n## YES\\nts0 = time.time()\\n\\n\\ndef calculate_sales_factor(row):\\n    if row.city == \\\"new york\\\":\\n        return row.booked_perc * 2\\n    return 0\\n\\n\\ndf[\\\"sales_factor\\\"] = df.apply(calculate_sales_factor, axis=1)\\nts1 = time.time()\\nprint(ts1 - ts0)\\n\\n## YES!\\nts0 = time.time()\\ndf.loc[df.city == \\\"new york\\\", \\\"sales_factor\\\"] = (\\n    df[df.city == \\\"new york\\\"].booked_perc * 2\\n)\\ndf.sales_factor.fillna(0, inplace=True)\\nts1 = time.time()\\nprint(ts1 - ts0)\\n\\ndf.head()\";\n",
       "                var nbb_cells = Jupyter.notebook.get_cells();\n",
       "                for (var i = 0; i < nbb_cells.length; ++i) {\n",
       "                    if (nbb_cells[i].input_prompt_number == nbb_cell_id) {\n",
       "                        if (nbb_cells[i].get_text() == nbb_unformatted_code) {\n",
       "                             nbb_cells[i].set_text(nbb_formatted_code);\n",
       "                        }\n",
       "                        break;\n",
       "                    }\n",
       "                }\n",
       "            }, 500);\n",
       "            "
      ],
      "text/plain": [
       "<IPython.core.display.Javascript object>"
      ]
     },
     "metadata": {},
     "output_type": "display_data"
    }
   ],
   "source": [
    "## NO!\n",
    "ts0 = time.time()\n",
    "for i, row in df.iterrows():\n",
    "    if row.city == \"new york\":\n",
    "        df.loc[i, \"sales_factor\"] = row.booked_perc * 2\n",
    "    else:\n",
    "        df.loc[i, \"sales_factor\"] = 0\n",
    "ts1 = time.time()\n",
    "print(ts1 - ts0)\n",
    "\n",
    "## YES\n",
    "ts0 = time.time()\n",
    "\n",
    "\n",
    "def calculate_sales_factor(row):\n",
    "    if row.city == \"new york\":\n",
    "        return row.booked_perc * 2\n",
    "    return 0\n",
    "\n",
    "\n",
    "df[\"sales_factor\"] = df.apply(calculate_sales_factor, axis=1)\n",
    "ts1 = time.time()\n",
    "print(ts1 - ts0)\n",
    "\n",
    "## YES!\n",
    "ts0 = time.time()\n",
    "df.loc[df.city == \"new york\", \"sales_factor\"] = (\n",
    "    df[df.city == \"new york\"].booked_perc * 2\n",
    ")\n",
    "df.sales_factor.fillna(0, inplace=True)\n",
    "ts1 = time.time()\n",
    "print(ts1 - ts0)\n",
    "\n",
    "df.head()"
   ]
  },
  {
   "cell_type": "markdown",
   "metadata": {},
   "source": [
    "When we are dealing with function with 3 or more variables, we can break it down to multiple pandas expressions. It will be faster than using the apply function.\n",
    "\n",
    "#### NO\n",
    "f(x, a, b) = (a + b) * x\n",
    "\n",
    "#### YES\n",
    "df['a_plus_b'] = df['a'] + df['b']\n",
    "\n",
    "df['f'] = df['a_plus_b'] * df['x']"
   ]
  },
  {
   "cell_type": "code",
   "execution_count": 28,
   "metadata": {},
   "outputs": [
    {
     "name": "stdout",
     "output_type": "stream",
     "text": [
      "0.007977485656738281\n",
      "0.01097416877746582\n"
     ]
    },
    {
     "data": {
      "application/javascript": [
       "\n",
       "            setTimeout(function() {\n",
       "                var nbb_cell_id = 28;\n",
       "                var nbb_unformatted_code = \"ts0 = time.time()\\ndf.groupby('city').sales_factor.mean()\\ndf.groupby('city').sales_factor.count()\\ndf.groupby('city').id.first()\\nts1 = time.time()\\nprint(ts1 - ts0)\\n\\nts0 = time.time()\\ndf.groupby(\\\"city\\\").agg({\\\"sales_factor\\\": [\\\"mean\\\", \\\"count\\\"], \\\"id\\\": \\\"first\\\"})\\nts1 = time.time()\\nprint(ts1 - ts0)\";\n",
       "                var nbb_formatted_code = \"ts0 = time.time()\\ndf.groupby(\\\"city\\\").sales_factor.mean()\\ndf.groupby(\\\"city\\\").sales_factor.count()\\ndf.groupby(\\\"city\\\").id.first()\\nts1 = time.time()\\nprint(ts1 - ts0)\\n\\nts0 = time.time()\\ndf.groupby(\\\"city\\\").agg({\\\"sales_factor\\\": [\\\"mean\\\", \\\"count\\\"], \\\"id\\\": \\\"first\\\"})\\nts1 = time.time()\\nprint(ts1 - ts0)\";\n",
       "                var nbb_cells = Jupyter.notebook.get_cells();\n",
       "                for (var i = 0; i < nbb_cells.length; ++i) {\n",
       "                    if (nbb_cells[i].input_prompt_number == nbb_cell_id) {\n",
       "                        if (nbb_cells[i].get_text() == nbb_unformatted_code) {\n",
       "                             nbb_cells[i].set_text(nbb_formatted_code);\n",
       "                        }\n",
       "                        break;\n",
       "                    }\n",
       "                }\n",
       "            }, 500);\n",
       "            "
      ],
      "text/plain": [
       "<IPython.core.display.Javascript object>"
      ]
     },
     "metadata": {},
     "output_type": "display_data"
    }
   ],
   "source": [
    "ts0 = time.time()\n",
    "\n",
    "df.groupby(\"city\").sales_factor.mean()\n",
    "df.groupby(\"city\").sales_factor.count()\n",
    "df.groupby(\"city\").id.first()\n",
    "\n",
    "ts1 = time.time()\n",
    "print(ts1 - ts0)\n",
    "\n",
    "ts0 = time.time()\n",
    "\n",
    "df.groupby(\"city\").agg({\"sales_factor\": [\"mean\", \"count\"], \"id\": \"first\"})\n",
    "\n",
    "ts1 = time.time()\n",
    "print(ts1 - ts0)"
   ]
  },
  {
   "cell_type": "code",
   "execution_count": null,
   "metadata": {},
   "outputs": [],
   "source": []
  }
 ],
 "metadata": {
  "kernelspec": {
   "display_name": "Python 3",
   "language": "python",
   "name": "python3"
  },
  "language_info": {
   "codemirror_mode": {
    "name": "ipython",
    "version": 3
   },
   "file_extension": ".py",
   "mimetype": "text/x-python",
   "name": "python",
   "nbconvert_exporter": "python",
   "pygments_lexer": "ipython3",
   "version": "3.7.6"
  }
 },
 "nbformat": 4,
 "nbformat_minor": 4
}
