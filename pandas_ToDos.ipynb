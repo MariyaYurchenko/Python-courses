{
 "cells": [
  {
   "cell_type": "code",
   "execution_count": null,
   "metadata": {},
   "outputs": [],
   "source": [
    "%load_ext lab_black\n",
    "%load_ext nb_black"
   ]
  },
  {
   "cell_type": "code",
   "execution_count": null,
   "metadata": {},
   "outputs": [],
   "source": [
    "\"\"\" \n",
    "Trying black package & pandas 1.0 & large csv handling\n",
    "\n",
    "\"\"\""
   ]
  },
  {
   "cell_type": "code",
   "execution_count": null,
   "metadata": {},
   "outputs": [],
   "source": [
    "import numpy as np\n",
    "import pandas as pd\n",
    "import time"
   ]
  },
  {
   "cell_type": "code",
   "execution_count": null,
   "metadata": {},
   "outputs": [],
   "source": [
    "size = 10000\n",
    "cities = [\"paris\", \"barcelona\", \"berlin\", \"new york\"]\n",
    "df = pd.DataFrame(\n",
    "    {\"city\": np.random.choice(cities, size=size), \"booked_perc\": np.random.rand(size)}\n",
    ")\n",
    "df[\"id\"] = df.index.map(str) + \"-\" + df.city\n",
    "df = df[[\"id\", \"city\", \"booked_perc\"]]\n",
    "df.head()"
   ]
  },
  {
   "cell_type": "code",
   "execution_count": null,
   "metadata": {},
   "outputs": [],
   "source": [
    "ts0 = time.time()\n",
    "\n",
    "sum(booked_perc for booked_perc in df.booked_perc)\n",
    "\n",
    "ts1 = time.time()\n",
    "print(ts1 - ts0)\n",
    "\n",
    "ts0 = time.time()\n",
    "\n",
    "df.booked_perc.sum()\n",
    "\n",
    "ts1 = time.time()\n",
    "print(ts1 - ts0)\n",
    "\n",
    "ts0 = time.time()\n",
    "\n",
    "df[\"perc_change\"] = df.booked_perc.pct_change()\n",
    "\n",
    "ts1 = time.time()\n",
    "print(ts1 - ts0)\n",
    "\n",
    "df.head()"
   ]
  },
  {
   "cell_type": "code",
   "execution_count": null,
   "metadata": {},
   "outputs": [],
   "source": [
    "## NO!\n",
    "ts0 = time.time()\n",
    "for i, row in df.iterrows():\n",
    "    if row.city == \"new york\":\n",
    "        df.loc[i, \"sales_factor\"] = row.booked_perc * 2\n",
    "    else:\n",
    "        df.loc[i, \"sales_factor\"] = 0\n",
    "ts1 = time.time()\n",
    "print(ts1 - ts0)\n",
    "\n",
    "## YES\n",
    "ts0 = time.time()\n",
    "\n",
    "\n",
    "def calculate_sales_factor(row):\n",
    "    if row.city == \"new york\":\n",
    "        return row.booked_perc * 2\n",
    "    return 0\n",
    "\n",
    "\n",
    "df[\"sales_factor\"] = df.apply(calculate_sales_factor, axis=1)\n",
    "ts1 = time.time()\n",
    "print(ts1 - ts0)\n",
    "\n",
    "## YES!\n",
    "ts0 = time.time()\n",
    "df.loc[df.city == \"new york\", \"sales_factor\"] = (\n",
    "    df[df.city == \"new york\"].booked_perc * 2\n",
    ")\n",
    "df.sales_factor.fillna(0, inplace=True)\n",
    "ts1 = time.time()\n",
    "print(ts1 - ts0)\n",
    "\n",
    "df.head()"
   ]
  },
  {
   "cell_type": "markdown",
   "metadata": {},
   "source": [
    "When we are dealing with function with 3 or more variables, we can break it down to multiple pandas expressions. It will be faster than using the apply function.\n",
    "\n",
    "#### NO\n",
    "f(x, a, b) = (a + b) * x\n",
    "\n",
    "#### YES\n",
    "df['a_plus_b'] = df['a'] + df['b']\n",
    "\n",
    "df['f'] = df['a_plus_b'] * df['x']"
   ]
  },
  {
   "cell_type": "code",
   "execution_count": null,
   "metadata": {},
   "outputs": [],
   "source": [
    "ts0 = time.time()\n",
    "\n",
    "df.groupby(\"city\").sales_factor.mean()\n",
    "df.groupby(\"city\").sales_factor.count()\n",
    "df.groupby(\"city\").id.first()\n",
    "\n",
    "ts1 = time.time()\n",
    "print(ts1 - ts0)\n",
    "\n",
    "ts0 = time.time()\n",
    "\n",
    "df.groupby(\"city\").agg({\"sales_factor\": [\"mean\", \"count\"], \"id\": \"first\"})\n",
    "\n",
    "ts1 = time.time()\n",
    "print(ts1 - ts0)"
   ]
  },
  {
   "cell_type": "code",
   "execution_count": null,
   "metadata": {},
   "outputs": [],
   "source": []
  }
 ],
 "metadata": {
  "kernelspec": {
   "display_name": "Python 3",
   "language": "python",
   "name": "python3"
  },
  "language_info": {
   "codemirror_mode": {
    "name": "ipython",
    "version": 3
   },
   "file_extension": ".py",
   "mimetype": "text/x-python",
   "name": "python",
   "nbconvert_exporter": "python",
   "pygments_lexer": "ipython3",
   "version": "3.6.4"
  }
 },
 "nbformat": 4,
 "nbformat_minor": 4
}
